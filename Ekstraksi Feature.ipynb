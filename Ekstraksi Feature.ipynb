{
  "nbformat": 4,
  "nbformat_minor": 0,
  "metadata": {
    "colab": {
      "name": "Dataset",
      "provenance": [],
      "collapsed_sections": []
    },
    "kernelspec": {
      "display_name": "Python 3",
      "name": "python3"
    },
    "language_info": {
      "name": "python"
    }
  },
  "cells": [
    {
      "cell_type": "code",
      "metadata": {
        "id": "wAVDIaK2SSFh"
      },
      "source": [
        "!pip install androguard"
      ],
      "execution_count": null,
      "outputs": []
    },
    {
      "cell_type": "code",
      "metadata": {
        "id": "8cR5yGsYXiIe"
      },
      "source": [
        "#untuk membaca file AndroidManfiest dengan get_permission dari androguard\n",
        "import os, sys, stat \n",
        "from androguard.core.bytecodes.apk import APK\n",
        "\n",
        "yesOJK = '/content/drive/MyDrive/Dataset/yesOJK/'\n",
        "noOJK = '/content/drive/MyDrive/Dataset/noOJK/'\n",
        "\n",
        "permissions =  []\n",
        "countM = 0\n",
        "countB = 0\n",
        "\n",
        "for entry in os.scandir(yesOJK):\n",
        "  if entry.path.endswith(\".apk\") and entry.is_file():\n",
        "          try:\n",
        "            a = APK(entry.path)\n",
        "            perm = a.get_permissions()\n",
        "            countB += 1\n",
        "            for per in perm:\n",
        "              if per not in permissions and per.startswith('android.permission'):\n",
        "                permissions.append(per)\n",
        "          except:\n",
        "            os.remove(entry.path)\n",
        "\n",
        "for entry in os.scandir(noOJK):\n",
        "  if entry.path.endswith(\".apk\") and entry.is_file():\n",
        "          try:\n",
        "            a = APK(entry.path)\n",
        "            perm = a.get_permissions()\n",
        "            countM += 1\n",
        "            for per in perm:\n",
        "              if per not in permissions and per.startswith('android.permission'):\n",
        "                permissions.append(per)\n",
        "          except:\n",
        "            os.remove(entry.path)       \n"
      ],
      "execution_count": null,
      "outputs": []
    },
    {
      "cell_type": "code",
      "metadata": {
        "colab": {
          "base_uri": "https://localhost:8080/"
        },
        "id": "HKBc0ezWYt2o",
        "outputId": "0c79d5f8-25bd-4369-d1e8-f59f9c75de9f"
      },
      "source": [
        "from google.colab import drive\n",
        "drive.mount('/content/drive')"
      ],
      "execution_count": null,
      "outputs": [
        {
          "output_type": "stream",
          "name": "stdout",
          "text": [
            "Drive already mounted at /content/drive; to attempt to forcibly remount, call drive.mount(\"/content/drive\", force_remount=True).\n"
          ]
        }
      ]
    },
    {
      "cell_type": "code",
      "metadata": {
        "colab": {
          "base_uri": "https://localhost:8080/"
        },
        "id": "LDEmCfMeXi6Q",
        "outputId": "7becb8c2-b984-47f0-a936-db9e0b2d9c27"
      },
      "source": [
        "#Jumlah Sampel yesOJK dan noOJK\n",
        "print(countB,countM)"
      ],
      "execution_count": null,
      "outputs": [
        {
          "output_type": "stream",
          "name": "stdout",
          "text": [
            "80 80\n"
          ]
        }
      ]
    },
    {
      "cell_type": "code",
      "metadata": {
        "colab": {
          "base_uri": "https://localhost:8080/"
        },
        "id": "leQ4nJzGX6D9",
        "outputId": "01f2fca8-3422-4236-fbc4-ecb3a1074517"
      },
      "source": [
        "#List permission berbahaya menurut Kumar \n",
        "import pandas as pd\n",
        "default = open('PermList.txt','r').readlines()\n",
        "perms = [s.rstrip('\\n') for s in default]\n",
        "print(len(perms))"
      ],
      "execution_count": null,
      "outputs": [
        {
          "output_type": "stream",
          "name": "stdout",
          "text": [
            "31\n"
          ]
        }
      ]
    },
    {
      "cell_type": "code",
      "metadata": {
        "id": "29iqIrP2YBBW",
        "colab": {
          "base_uri": "https://localhost:8080/"
        },
        "outputId": "66ea3419-9a30-4678-acc2-e06b64950db2"
      },
      "source": [
        "#Mencatat Permission yang terdapat pada sampel dalam bentuk biner\n",
        "dataset_df = pd.DataFrame(columns=perms)\n",
        "dataset_b = {}\n",
        "id = 0\n",
        "for entry in os.scandir(yesOJK):\n",
        "  if entry.path.endswith(\".apk\") and entry.is_file():\n",
        "    a = APK(entry.path)\n",
        "    perm = a.get_permissions()\n",
        "    id += 1\n",
        "    for d in perms:\n",
        "      if d in perm:\n",
        "        dataset_b[d]=1\n",
        "      else:\n",
        "        dataset_b[d]=0\n",
        "    dataset_b['class'] = 'yesOJK'\n",
        "    dataset_df=dataset_df.append(dataset_b, ignore_index=True)\n",
        "dataset_m = {}\n",
        "for entry in os.scandir(noOJK):\n",
        "  if entry.path.endswith(\".apk\") and entry.is_file():\n",
        "    a = APK(entry.path)\n",
        "    perm = a.get_permissions()\n",
        "    id += 1\n",
        "    for d in perms:\n",
        "      if d in perm:\n",
        "        dataset_m[d]=1\n",
        "      else:\n",
        "        dataset_m[d]=0\n",
        "    dataset_m['class'] = 'noOJK'\n",
        "    dataset_df=dataset_df.append(dataset_m, ignore_index=True)"
      ],
      "execution_count": null,
      "outputs": [
        {
          "output_type": "stream",
          "name": "stderr",
          "text": [
            "Requested API level 29 is larger than maximum we have, returning API level 28 instead.\n",
            "Requested API level 30 is larger than maximum we have, returning API level 28 instead.\n",
            "Requested API level 30 is larger than maximum we have, returning API level 28 instead.\n",
            "Requested API level 29 is larger than maximum we have, returning API level 28 instead.\n",
            "Requested API level 30 is larger than maximum we have, returning API level 28 instead.\n",
            "Requested API level 29 is larger than maximum we have, returning API level 28 instead.\n",
            "Requested API level 29 is larger than maximum we have, returning API level 28 instead.\n",
            "Requested API level 29 is larger than maximum we have, returning API level 28 instead.\n",
            "Requested API level 29 is larger than maximum we have, returning API level 28 instead.\n",
            "Requested API level 29 is larger than maximum we have, returning API level 28 instead.\n",
            "Requested API level 29 is larger than maximum we have, returning API level 28 instead.\n",
            "Requested API level 30 is larger than maximum we have, returning API level 28 instead.\n",
            "Requested API level 30 is larger than maximum we have, returning API level 28 instead.\n",
            "Requested API level 29 is larger than maximum we have, returning API level 28 instead.\n",
            "Requested API level 29 is larger than maximum we have, returning API level 28 instead.\n",
            "Requested API level 29 is larger than maximum we have, returning API level 28 instead.\n",
            "Requested API level 30 is larger than maximum we have, returning API level 28 instead.\n",
            "Requested API level 29 is larger than maximum we have, returning API level 28 instead.\n",
            "Requested API level 29 is larger than maximum we have, returning API level 28 instead.\n",
            "Requested API level 29 is larger than maximum we have, returning API level 28 instead.\n",
            "Requested API level 29 is larger than maximum we have, returning API level 28 instead.\n",
            "Requested API level 29 is larger than maximum we have, returning API level 28 instead.\n",
            "Requested API level 29 is larger than maximum we have, returning API level 28 instead.\n",
            "Requested API level 30 is larger than maximum we have, returning API level 28 instead.\n",
            "Requested API level 29 is larger than maximum we have, returning API level 28 instead.\n",
            "Requested API level 29 is larger than maximum we have, returning API level 28 instead.\n",
            "Requested API level 29 is larger than maximum we have, returning API level 28 instead.\n",
            "Requested API level 30 is larger than maximum we have, returning API level 28 instead.\n",
            "Requested API level 29 is larger than maximum we have, returning API level 28 instead.\n",
            "Requested API level 29 is larger than maximum we have, returning API level 28 instead.\n",
            "Requested API level 30 is larger than maximum we have, returning API level 28 instead.\n",
            "Requested API level 29 is larger than maximum we have, returning API level 28 instead.\n",
            "Requested API level 29 is larger than maximum we have, returning API level 28 instead.\n",
            "Requested API level 29 is larger than maximum we have, returning API level 28 instead.\n",
            "Requested API level 29 is larger than maximum we have, returning API level 28 instead.\n",
            "Requested API level 30 is larger than maximum we have, returning API level 28 instead.\n",
            "Requested API level 29 is larger than maximum we have, returning API level 28 instead.\n",
            "Requested API level 29 is larger than maximum we have, returning API level 28 instead.\n",
            "Requested API level 30 is larger than maximum we have, returning API level 28 instead.\n",
            "Requested API level 29 is larger than maximum we have, returning API level 28 instead.\n",
            "Requested API level 30 is larger than maximum we have, returning API level 28 instead.\n",
            "Requested API level 30 is larger than maximum we have, returning API level 28 instead.\n",
            "Requested API level 30 is larger than maximum we have, returning API level 28 instead.\n",
            "Not a XML resource chunk type: 0x6369. Skipping 524672 bytes\n",
            "Requested API level 29 is larger than maximum we have, returning API level 28 instead.\n",
            "Requested API level 30 is larger than maximum we have, returning API level 28 instead.\n",
            "Requested API level 30 is larger than maximum we have, returning API level 28 instead.\n",
            "Requested API level 30 is larger than maximum we have, returning API level 28 instead.\n",
            "Requested API level 30 is larger than maximum we have, returning API level 28 instead.\n",
            "Requested API level 29 is larger than maximum we have, returning API level 28 instead.\n",
            "Requested API level 30 is larger than maximum we have, returning API level 28 instead.\n",
            "Requested API level 30 is larger than maximum we have, returning API level 28 instead.\n",
            "Requested API level 30 is larger than maximum we have, returning API level 28 instead.\n",
            "Requested API level 29 is larger than maximum we have, returning API level 28 instead.\n",
            "Requested API level 30 is larger than maximum we have, returning API level 28 instead.\n",
            "Requested API level 29 is larger than maximum we have, returning API level 28 instead.\n",
            "Requested API level 29 is larger than maximum we have, returning API level 28 instead.\n",
            "Requested API level 29 is larger than maximum we have, returning API level 28 instead.\n",
            "Requested API level 29 is larger than maximum we have, returning API level 28 instead.\n",
            "Requested API level 29 is larger than maximum we have, returning API level 28 instead.\n",
            "Requested API level 29 is larger than maximum we have, returning API level 28 instead.\n",
            "Requested API level 29 is larger than maximum we have, returning API level 28 instead.\n",
            "Requested API level 30 is larger than maximum we have, returning API level 28 instead.\n",
            "Requested API level 30 is larger than maximum we have, returning API level 28 instead.\n",
            "Requested API level 29 is larger than maximum we have, returning API level 28 instead.\n",
            "Requested API level 29 is larger than maximum we have, returning API level 28 instead.\n",
            "Requested API level 29 is larger than maximum we have, returning API level 28 instead.\n"
          ]
        }
      ]
    },
    {
      "cell_type": "code",
      "metadata": {
        "id": "ojPQMzPbYEaD"
      },
      "source": [
        "#Export ke CSV \n",
        "dataset_df.to_csv('/content/drive/My Drive/Dataset/fintech_dataset.csv', index=False)"
      ],
      "execution_count": null,
      "outputs": []
    },
    {
      "cell_type": "markdown",
      "metadata": {
        "id": "L6FErD-dnu3-"
      },
      "source": [
        "--------"
      ]
    },
    {
      "cell_type": "code",
      "metadata": {
        "id": "oq-32CBym793"
      },
      "source": [
        "# import sklearn\n",
        "# from sklearn.model_selection import train_test_split\n",
        "# Y = dataset_df['class']\n",
        "# X = dataset_df.drop(['class'], axis=1)\n",
        "\n",
        "# X_train, X_test, y_train, y_test = train_test_split(X, Y, test_size=0.2)"
      ],
      "execution_count": null,
      "outputs": []
    }
  ]
}